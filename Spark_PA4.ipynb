{
  "nbformat": 4,
  "nbformat_minor": 0,
  "metadata": {
    "colab": {
      "provenance": []
    },
    "kernelspec": {
      "name": "python3",
      "display_name": "Python 3"
    },
    "language_info": {
      "name": "python"
    }
  },
  "cells": [
    {
      "cell_type": "code",
      "execution_count": null,
      "metadata": {
        "id": "SxI1zHOZ_Wgo"
      },
      "outputs": [],
      "source": [
        "!pip install pyspark\n",
        "!pip install -U -q PyDrive\n",
        "!apt install openjdk-8-jdk-headless -qq\n",
        "import os\n",
        "os.environ[\"JAVA_HOME\"] = \"/usr/lib/jvm/java-8-openjdk-amd64\"\n"
      ]
    },
    {
      "cell_type": "code",
      "source": [
        "import pyspark\n",
        "from pyspark.sql import *\n",
        "from pyspark.sql.functions import *\n",
        "from pyspark import SparkContext, SparkConf"
      ],
      "metadata": {
        "id": "TQvQam10NAeI"
      },
      "execution_count": 2,
      "outputs": []
    },
    {
      "cell_type": "code",
      "source": [
        "conf = SparkConf().set(\"spark.ui.port\", \"4050\")\n",
        "sc = SparkContext.getOrCreate(conf=conf)\n",
        "spark = SparkSession.builder.getOrCreate()"
      ],
      "metadata": {
        "id": "9WIyGKFzNAhC"
      },
      "execution_count": 3,
      "outputs": []
    },
    {
      "cell_type": "code",
      "source": [
        "import pandas as pd\n",
        "import numpy as np\n",
        "import matplotlib.pyplot as plt\n",
        "%matplotlib inline"
      ],
      "metadata": {
        "id": "9CrVo-tNd1xv"
      },
      "execution_count": 4,
      "outputs": []
    },
    {
      "cell_type": "code",
      "source": [
        "bombingOperations = spark.read.json(\"Bombing_Operations.json.gz\")\n",
        "aircraftGlossary = spark.read.json(\"Aircraft_Glossary.json\")"
      ],
      "metadata": {
        "id": "6e1cg2BdNAoq"
      },
      "execution_count": 5,
      "outputs": []
    },
    {
      "cell_type": "code",
      "source": [
        "#1.A DataFrame API\n",
        "missionCounts = bombingOperations.groupBy(\"ContryFlyingMission\")\\\n",
        "                                    .agg(count(\"*\").alias(\"missionCount\"))\\\n",
        "                                    .sort(desc(\"missionCount\"))\n",
        "missionCounts.show()"
      ],
      "metadata": {
        "id": "9HtKmo4_Dk6E",
        "colab": {
          "base_uri": "https://localhost:8080/",
          "height": 0
        },
        "outputId": "cff1400f-8cbc-4b3e-f4a7-7099158ae9e9"
      },
      "execution_count": 6,
      "outputs": [
        {
          "output_type": "stream",
          "name": "stdout",
          "text": [
            "+--------------------+------------+\n",
            "| ContryFlyingMission|missionCount|\n",
            "+--------------------+------------+\n",
            "|UNITED STATES OF ...|     3708997|\n",
            "|     VIETNAM (SOUTH)|      622013|\n",
            "|                LAOS|       32777|\n",
            "|       KOREA (SOUTH)|       24469|\n",
            "|           AUSTRALIA|       12519|\n",
            "+--------------------+------------+\n",
            "\n"
          ]
        }
      ]
    },
    {
      "cell_type": "code",
      "source": [
        "#1.B Spark SQL\n",
        "bombingOperations.createOrReplaceTempView(\"Bombing_Operations\")"
      ],
      "metadata": {
        "id": "hQ0_qEFdDk8o"
      },
      "execution_count": 7,
      "outputs": []
    },
    {
      "cell_type": "code",
      "source": [
        "query = \"\"\"\n",
        "SELECT ContryFlyingMission, count(*) as missionCount\n",
        "FROM Bombing_Operations\n",
        "GROUP BY ContryFlyingMission\n",
        "ORDER BY missionCount DESC\n",
        "\"\"\""
      ],
      "metadata": {
        "id": "y8QydEohEgC5"
      },
      "execution_count": 8,
      "outputs": []
    },
    {
      "cell_type": "code",
      "source": [
        "missionCounts_SQL = spark.sql(query)\n",
        "missionCounts_SQL.show()"
      ],
      "metadata": {
        "id": "Ia_33cMSDk_a",
        "colab": {
          "base_uri": "https://localhost:8080/",
          "height": 0
        },
        "outputId": "cf2ee377-9b96-4aa4-ce46-1658cf380591"
      },
      "execution_count": 9,
      "outputs": [
        {
          "output_type": "stream",
          "name": "stdout",
          "text": [
            "+--------------------+------------+\n",
            "| ContryFlyingMission|missionCount|\n",
            "+--------------------+------------+\n",
            "|UNITED STATES OF ...|     3708997|\n",
            "|     VIETNAM (SOUTH)|      622013|\n",
            "|                LAOS|       32777|\n",
            "|       KOREA (SOUTH)|       24469|\n",
            "|           AUSTRALIA|       12519|\n",
            "+--------------------+------------+\n",
            "\n"
          ]
        }
      ]
    },
    {
      "cell_type": "code",
      "source": [
        "#2 - Bar Chart\n",
        "missionCounts_pd = missionCounts_SQL.toPandas()"
      ],
      "metadata": {
        "id": "16Rx-h7SDlCA"
      },
      "execution_count": 12,
      "outputs": []
    },
    {
      "cell_type": "code",
      "source": [
        "pl = missionCounts_pd.plot(kind=\"bar\",\n",
        "                            x=\"ContryFlyingMission\", y=\"missionCount\",\n",
        "                            figsize=(8, 8), alpha=0.8, color=\"red\")\n",
        "pl.set_xlabel(\"Countries Involved\")\n",
        "pl.set_ylabel(\"Number of Missions (In Million)\")\n",
        "pl.set_title(\"Missions by Each Country\")"
      ],
      "metadata": {
        "id": "N3616r6RDlE5",
        "colab": {
          "base_uri": "https://localhost:8080/",
          "height": 663
        },
        "outputId": "2cf151e5-4862-4b22-ac4e-3aa60fd5684d"
      },
      "execution_count": 11,
      "outputs": [
        {
          "output_type": "execute_result",
          "data": {
            "text/plain": [
              "Text(0.5, 1.0, 'Missions by Each Country')"
            ]
          },
          "metadata": {},
          "execution_count": 11
        },
        {
          "output_type": "display_data",
          "data": {
            "text/plain": [
              "<Figure size 576x576 with 1 Axes>"
            ],
            "image/png": "[encoded data removed]"
          },
          "metadata": {
            "needs_background": "light"
          }
        }
      ]
    },
    {
      "cell_type": "code",
      "source": [
        "# 3- Plot number of missions\n",
        "countriesInvolved = bombingOperations.selectExpr([\"to_date(MissionDate) as Date\", \"ContryFlyingMission\"])"
      ],
      "metadata": {
        "id": "yoBdK74jDlHs"
      },
      "execution_count": 14,
      "outputs": []
    },
    {
      "cell_type": "code",
      "source": [
        "missionsPerDay = countriesInvolved\\\n",
        "                  .groupBy([\"Date\", \"ContryFlyingMission\"])\\\n",
        "                  .agg(count(\"*\").alias(\"missionCount\"))\\\n",
        "                  .sort(asc(\"Date\")).toPandas()"
      ],
      "metadata": {
        "id": "v653y5ecDlKE"
      },
      "execution_count": 15,
      "outputs": []
    },
    {
      "cell_type": "code",
      "source": [
        "fig = plt.figure(figsize=(8, 8))\n",
        "\n",
        "for country, missions in missionsPerDay.groupby(\"ContryFlyingMission\"):\n",
        "    plt.plot(missions[\"Date\"], missions[\"missionCount\"], label=country)\n",
        "plt.legend(loc='best')"
      ],
      "metadata": {
        "id": "fFgn7rA2Fdt_",
        "colab": {
          "base_uri": "https://localhost:8080/",
          "height": 502
        },
        "outputId": "cf2c6d9b-1b81-4549-b351-d1643ca57bc4"
      },
      "execution_count": 16,
      "outputs": [
        {
          "output_type": "execute_result",
          "data": {
            "text/plain": [
              "<matplotlib.legend.Legend at 0x7fb293bb3110>"
            ]
          },
          "metadata": {},
          "execution_count": 16
        },
        {
          "output_type": "display_data",
          "data": {
            "text/plain": [
              "<Figure size 576x576 with 1 Axes>"
            ],
            "image/png": "[encoded data removed]"
          },
          "metadata": {
            "needs_background": "light"
          }
        }
      ]
    },
    {
      "cell_type": "code",
      "source": [
        "#4 - North Vietnam Attacks 6/29/1966\n",
        "operationsInJune = bombingOperations.where(\"MissionDate = '1966-06-29' AND TargetCountry='NORTH VIETNAM'\")"
      ],
      "metadata": {
        "id": "qoKLTg73_2UX"
      },
      "execution_count": 17,
      "outputs": []
    },
    {
      "cell_type": "code",
      "source": [
        "operationsInJune.groupBy(\"ContryFlyingMission\")\\\n",
        "                .agg(count(\"*\")\\\n",
        "                .alias(\"missionCount\")).toPandas()"
      ],
      "metadata": {
        "colab": {
          "base_uri": "https://localhost:8080/",
          "height": 112
        },
        "id": "cHgTtqtu_2Xf",
        "outputId": "5bb16149-6376-4236-9290-55b30d6c7479"
      },
      "execution_count": 18,
      "outputs": [
        {
          "output_type": "execute_result",
          "data": {
            "text/plain": [
              "        ContryFlyingMission  missionCount\n",
              "0           VIETNAM (SOUTH)             6\n",
              "1  UNITED STATES OF AMERICA           389"
            ],
            "text/html": [
              "\n",
              "  <div id=\"df-b72e6ac7-7451-4347-ae94-0ac131396472\">\n",
              "    <div class=\"colab-df-container\">\n",
              "      <div>\n",
              "<style scoped>\n",
              "    .dataframe tbody tr th:only-of-type {\n",
              "        vertical-align: middle;\n",
              "    }\n",
              "\n",
              "    .dataframe tbody tr th {\n",
              "        vertical-align: top;\n",
              "    }\n",
              "\n",
              "    .dataframe thead th {\n",
              "        text-align: right;\n",
              "    }\n",
              "</style>\n",
              "<table border=\"1\" class=\"dataframe\">\n",
              "  <thead>\n",
              "    <tr style=\"text-align: right;\">\n",
              "      <th></th>\n",
              "      <th>ContryFlyingMission</th>\n",
              "      <th>missionCount</th>\n",
              "    </tr>\n",
              "  </thead>\n",
              "  <tbody>\n",
              "    <tr>\n",
              "      <th>0</th>\n",
              "      <td>VIETNAM (SOUTH)</td>\n",
              "      <td>6</td>\n",
              "    </tr>\n",
              "    <tr>\n",
              "      <th>1</th>\n",
              "      <td>UNITED STATES OF AMERICA</td>\n",
              "      <td>389</td>\n",
              "    </tr>\n",
              "  </tbody>\n",
              "</table>\n",
              "</div>\n",
              "      <button class=\"colab-df-convert\" onclick=\"convertToInteractive('df-b72e6ac7-7451-4347-ae94-0ac131396472')\"\n",
              "              title=\"Convert this dataframe to an interactive table.\"\n",
              "              style=\"display:none;\">\n",
              "        \n",
              "  <svg xmlns=\"http://www.w3.org/2000/svg\" height=\"24px\"viewBox=\"0 0 24 24\"\n",
              "       width=\"24px\">\n",
              "    <path d=\"M0 0h24v24H0V0z\" fill=\"none\"/>\n",
              "    <path d=\"M18.56 5.44l.94 2.06.94-2.06 2.06-.94-2.06-.94-.94-2.06-.94 2.06-2.06.94zm-11 1L8.5 8.5l.94-2.06 2.06-.94-2.06-.94L8.5 2.5l-.94 2.06-2.06.94zm10 10l.94 2.06.94-2.06 2.06-.94-2.06-.94-.94-2.06-.94 2.06-2.06.94z\"/><path d=\"M17.41 7.96l-1.37-1.37c-.4-.4-.92-.59-1.43-.59-.52 0-1.04.2-1.43.59L10.3 9.45l-7.72 7.72c-.78.78-.78 2.05 0 2.83L4 21.41c.39.39.9.59 1.41.59.51 0 1.02-.2 1.41-.59l7.78-7.78 2.81-2.81c.8-.78.8-2.07 0-2.86zM5.41 20L4 18.59l7.72-7.72 1.47 1.35L5.41 20z\"/>\n",
              "  </svg>\n",
              "      </button>\n",
              "      \n",
              "  <style>\n",
              "    .colab-df-container {\n",
              "      display:flex;\n",
              "      flex-wrap:wrap;\n",
              "      gap: 12px;\n",
              "    }\n",
              "\n",
              "    .colab-df-convert {\n",
              "      background-color: #E8F0FE;\n",
              "      border: none;\n",
              "      border-radius: 50%;\n",
              "      cursor: pointer;\n",
              "      display: none;\n",
              "      fill: #1967D2;\n",
              "      height: 32px;\n",
              "      padding: 0 0 0 0;\n",
              "      width: 32px;\n",
              "    }\n",
              "\n",
              "    .colab-df-convert:hover {\n",
              "      background-color: #E2EBFA;\n",
              "      box-shadow: 0px 1px 2px rgba(60, 64, 67, 0.3), 0px 1px 3px 1px rgba(60, 64, 67, 0.15);\n",
              "      fill: #174EA6;\n",
              "    }\n",
              "\n",
              "    [theme=dark] .colab-df-convert {\n",
              "      background-color: #3B4455;\n",
              "      fill: #D2E3FC;\n",
              "    }\n",
              "\n",
              "    [theme=dark] .colab-df-convert:hover {\n",
              "      background-color: #434B5C;\n",
              "      box-shadow: 0px 1px 3px 1px rgba(0, 0, 0, 0.15);\n",
              "      filter: drop-shadow(0px 1px 2px rgba(0, 0, 0, 0.3));\n",
              "      fill: #FFFFFF;\n",
              "    }\n",
              "  </style>\n",
              "\n",
              "      <script>\n",
              "        const buttonEl =\n",
              "          document.querySelector('#df-b72e6ac7-7451-4347-ae94-0ac131396472 button.colab-df-convert');\n",
              "        buttonEl.style.display =\n",
              "          google.colab.kernel.accessAllowed ? 'block' : 'none';\n",
              "\n",
              "        async function convertToInteractive(key) {\n",
              "          const element = document.querySelector('#df-b72e6ac7-7451-4347-ae94-0ac131396472');\n",
              "          const dataTable =\n",
              "            await google.colab.kernel.invokeFunction('convertToInteractive',\n",
              "                                                     [key], {});\n",
              "          if (!dataTable) return;\n",
              "\n",
              "          const docLinkHtml = 'Like what you see? Visit the ' +\n",
              "            '<a target=\"_blank\" href=https://colab.research.google.com/notebooks/data_table.ipynb>data table notebook</a>'\n",
              "            + ' to learn more about interactive tables.';\n",
              "          element.innerHTML = '';\n",
              "          dataTable['output_type'] = 'display_data';\n",
              "          await google.colab.output.renderOutput(dataTable, element);\n",
              "          const docLink = document.createElement('div');\n",
              "          docLink.innerHTML = docLinkHtml;\n",
              "          element.appendChild(docLink);\n",
              "        }\n",
              "      </script>\n",
              "    </div>\n",
              "  </div>\n",
              "  "
            ]
          },
          "metadata": {},
          "execution_count": 18
        }
      ]
    },
    {
      "cell_type": "code",
      "source": [
        "takeoffCounts = operationsInJune\\\n",
        "                            .groupBy(\"TakeoffLocation\").agg(count(\"*\").alias(\"missionCount\"))\\\n",
        "                            .sort(desc(\"missionCount\")).show()"
      ],
      "metadata": {
        "id": "bXsKDSyN_2aq",
        "colab": {
          "base_uri": "https://localhost:8080/",
          "height": 0
        },
        "outputId": "48517991-885d-446b-fa8f-c74f696b6c02"
      },
      "execution_count": 19,
      "outputs": [
        {
          "output_type": "stream",
          "name": "stdout",
          "text": [
            "+----------------+------------+\n",
            "| TakeoffLocation|missionCount|\n",
            "+----------------+------------+\n",
            "|   CONSTELLATION|          87|\n",
            "|          TAKHLI|          56|\n",
            "|           KORAT|          55|\n",
            "|        UDORN AB|          44|\n",
            "|         UBON AB|          44|\n",
            "|          RANGER|          35|\n",
            "|          DANANG|          35|\n",
            "|    TAN SON NHUT|          26|\n",
            "|HANCOCK (CVA-19)|          10|\n",
            "|    CAM RANH BAY|           2|\n",
            "|         CUBI PT|           1|\n",
            "+----------------+------------+\n",
            "\n"
          ]
        }
      ]
    },
    {
      "cell_type": "code",
      "source": [
        "#5 - Month that saw the highest number of missions\n",
        "bombingOperations.createOrReplaceTempView(\"Bombing_Operations2\")"
      ],
      "metadata": {
        "id": "JnUF75l41XgC"
      },
      "execution_count": 34,
      "outputs": []
    },
    {
      "cell_type": "code",
      "source": [
        "query2 = \"\"\"\n",
        "SELECT MONTH(MissionDate) as Month, count(*) as missionCount\n",
        "FROM Bombing_Operations2\n",
        "GROUP BY MONTH(MissionDate)\n",
        "ORDER BY missionCount DESC\n",
        "LIMIT 1\n",
        "\"\"\""
      ],
      "metadata": {
        "id": "PV5P0G0p1XtG"
      },
      "execution_count": 32,
      "outputs": []
    },
    {
      "cell_type": "code",
      "source": [
        "missionsByMonth = spark.sql(query2)\n",
        "missionsByMonth.show()"
      ],
      "metadata": {
        "colab": {
          "base_uri": "https://localhost:8080/",
          "height": 0
        },
        "id": "oe4UZyFA1X2T",
        "outputId": "052937ce-6ce6-486c-9b1e-7c48658dafa2"
      },
      "execution_count": 33,
      "outputs": [
        {
          "output_type": "stream",
          "name": "stdout",
          "text": [
            "+-----+------------+\n",
            "|Month|missionCount|\n",
            "+-----+------------+\n",
            "|    5|      457431|\n",
            "+-----+------------+\n",
            "\n"
          ]
        }
      ]
    },
    {
      "cell_type": "code",
      "source": [
        "#6 - heaviest bombings; showed top 3 as operation supported is None (null) for most of the rows\n",
        "heaviestBombings = bombingOperations.groupBy(\"OperationSupported\")\\\n",
        "                                    .agg(count(\"*\").alias(\"missionCount\"))\\\n",
        "                                    .sort(desc(\"missionCount\"))\\\n",
        "                                    .limit(3)\n",
        "\n",
        "heaviestBombings.show()"
      ],
      "metadata": {
        "colab": {
          "base_uri": "https://localhost:8080/",
          "height": 0
        },
        "id": "ztzdEABmrS4o",
        "outputId": "d8a2e3a9-3f4a-477b-e97c-06e0bbae3c17"
      },
      "execution_count": 20,
      "outputs": [
        {
          "output_type": "stream",
          "name": "stdout",
          "text": [
            "+--------------------+------------+\n",
            "|  OperationSupported|missionCount|\n",
            "+--------------------+------------+\n",
            "|                null|     1839788|\n",
            "|          IN COUNTRY|      546215|\n",
            "|IN COUNTRY - SOUT...|      200616|\n",
            "+--------------------+------------+\n",
            "\n"
          ]
        }
      ]
    },
    {
      "cell_type": "code",
      "source": [
        "#7 - Most used aircraft type\n",
        "aircraft_bombing = bombingOperations.join(aircraftGlossary,\n",
        "                                          bombingOperations.AirCraft == aircraftGlossary.AirCraft)"
      ],
      "metadata": {
        "id": "VifBDCYV_2fn"
      },
      "execution_count": 21,
      "outputs": []
    },
    {
      "cell_type": "code",
      "source": [
        "aircrafts = aircraft_bombing.select(\"AirCraftType\")"
      ],
      "metadata": {
        "id": "lMSFn_KI_2kw"
      },
      "execution_count": 22,
      "outputs": []
    },
    {
      "cell_type": "code",
      "source": [
        "aircrafts.groupBy(\"AirCraftType\")\\\n",
        "        .agg(count(\"*\")\\\n",
        "        .alias(\"missionCount\"))\\\n",
        "        .sort(desc(\"missionCount\"))\\\n",
        "        .limit(1)\\\n",
        "        .show()"
      ],
      "metadata": {
        "colab": {
          "base_uri": "https://localhost:8080/",
          "height": 0
        },
        "id": "MrfiSv8n_2nX",
        "outputId": "d3752fd4-8df1-425e-9c96-93dd7fbaa02f"
      },
      "execution_count": 23,
      "outputs": [
        {
          "output_type": "stream",
          "name": "stdout",
          "text": [
            "+------------------+------------+\n",
            "|      AirCraftType|missionCount|\n",
            "+------------------+------------+\n",
            "|Fighter Jet Bomber|     1073126|\n",
            "+------------------+------------+\n",
            "\n"
          ]
        }
      ]
    }
  ]
}